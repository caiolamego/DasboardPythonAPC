{
  "nbformat": 4,
  "nbformat_minor": 0,
  "metadata": {
    "colab": {
      "provenance": []
    },
    "kernelspec": {
      "name": "python3",
      "display_name": "Python 3"
    },
    "language_info": {
      "name": "python"
    }
  },
  "cells": [
    {
      "cell_type": "code",
      "execution_count": 12,
      "metadata": {
        "colab": {
          "base_uri": "https://localhost:8080/",
          "height": 350
        },
        "id": "anh7bCyg8u6d",
        "outputId": "115c798e-d4a6-4031-f3be-295958281b77"
      },
      "outputs": [
        {
          "output_type": "display_data",
          "data": {
            "text/plain": [
              "<Figure size 720x360 with 1 Axes>"
            ],
            "image/png": "[encoded data removed]"
          },
          "metadata": {
            "needs_background": "light"
          }
        }
      ],
      "source": [
        "import pandas as pd\n",
        "import matplotlib.pyplot as plt\n",
        "import numpy as np\n",
        "\n",
        "# O objetivo do gráfico é mostrar a porcentagem do total que cada regime de trabalho representa ao longo dos anos, para poder analisar por exemplo o impacto da pandemia nesse aspecto no ano de 2021 e como o mercado vem reagindo pós-pandemia, para fazer essa analise achamos correto desconsiderar registros em que o país da empresa e o país de residencia do funcionario são diferentes pois obrigatoriamente o trabalho é remoto e desconsiderar tambem registros que não representam relações de trabalho em tempo integral. O layout pensando para o gráfico e o layout de barras agrupadas com cada barra representando a porcentagem de um dos regimes de trabalho representados no dataset, com barras distibuidas ao longo dos anos de forma crescente.\n",
        "\n",
        "# Função para calcular porcentagem\n",
        "def calculate_percentage(total_value, value_to_calculate_percentage):\n",
        "  percentage = value_to_calculate_percentage * 100 // total_value\n",
        "\n",
        "  return percentage\n",
        "\n",
        "# Importação do dataset\n",
        "raw_dataset = pd.read_csv('./salaries.csv')\n",
        "\n",
        "# Variaveis para auxiliar no refinamento e limpeza do dataset\n",
        "work_year = []\n",
        "remote_ratio = []\n",
        "\n",
        "# Loop que percorre o dataset e preenche as variaveis auxiliares com valores que vão ser uteis na geração do gráfico\n",
        "for index in raw_dataset.index:\n",
        "  row_information = raw_dataset.iloc[index]\n",
        "\n",
        "  row_is_elegible = True if row_information.employment_type == 'FT' and row_information.employee_residence == row_information.company_location else False\n",
        "\n",
        "  if(row_is_elegible):\n",
        "    work_year.append(row_information.work_year)\n",
        "    remote_ratio.append(row_information.remote_ratio)\n",
        "\n",
        "# Geração de um novo dataset, refinado e limpo contendo apenas informações que vão ser uteis para geração do grafico\n",
        "data = {\n",
        "    'work_year': work_year,\n",
        "    'remote_ratio': remote_ratio,\n",
        "}\n",
        "\n",
        "refined_dataset = pd.DataFrame(data, columns=['work_year', 'remote_ratio'])\n",
        "\n",
        "# Variaveis para auxiliar na transformação dos dados para que possam ser exibidos no grafico\n",
        "counters_for_graph = {}\n",
        "years = sorted(set(work_year))\n",
        "\n",
        "# Loop que inicializa os contadores concatenando o ano em questão ao regime de trabalho\n",
        "for year in years:\n",
        "  counters_for_graph[str(year) + '_in_person'] = 0\n",
        "  counters_for_graph[str(year) + '_hybrid'] = 0\n",
        "  counters_for_graph[str(year) + '_remote'] = 0\n",
        "\n",
        "# Loop que percorre o dataset e incrementa os contadores de acordo com o ano do registro e o regime de trabalho \n",
        "for index in refined_dataset.index:\n",
        "  row_information = raw_dataset.iloc[index]\n",
        "\n",
        "  if(row_information.remote_ratio == 0):\n",
        "    counters_for_graph[str(row_information.work_year) + '_in_person'] += 1\n",
        "\n",
        "  if(row_information.remote_ratio == 50):\n",
        "    counters_for_graph[str(row_information.work_year) + '_hybrid'] += 1\n",
        "\n",
        "  if(row_information.remote_ratio == 100):\n",
        "    counters_for_graph[str(row_information.work_year) + '_remote'] += 1\n",
        "\n",
        "# Variavel para auxliar na montagem das barras do gráfico\n",
        "graph_bars = {\n",
        "    'in_person': [],\n",
        "    'hybrid': [],\n",
        "    'remote': [],\n",
        "}\n",
        "\n",
        "# Loop para preencher as barras do grafico com a porcentagem que cada regime de trabalho ocupa do total ao longo dos anos de acordo com o dataset\n",
        "for year in years:\n",
        "  total_hybrid = counters_for_graph[str(year) + '_hybrid']\n",
        "  total_remote = counters_for_graph[str(year) + '_remote']\n",
        "  total_in_person = counters_for_graph[str(year) + '_in_person']\n",
        "  total_year_sample = total_hybrid + total_remote + total_in_person\n",
        "\n",
        "  graph_bars['in_person'].append(calculate_percentage(total_year_sample, total_in_person))\n",
        "  graph_bars['hybrid'].append(calculate_percentage(total_year_sample, total_hybrid))\n",
        "  graph_bars['remote'].append(calculate_percentage(total_year_sample, total_remote))\n",
        "\n",
        "# Definindo largura das barras do gráfico\n",
        "bar_width = 0.25\n",
        "\n",
        "# Aumentando o gráfico\n",
        "plt.figure(figsize=(10,5))\n",
        "\n",
        "# Definindo a posição das barras do gráfico\n",
        "in_person_bars_position = np.arange(len(years))\n",
        "hybrid_bars_position = [in_person_bar + bar_width for in_person_bar in in_person_bars_position]\n",
        "remote_bars_position = [hybrid_bar + bar_width for hybrid_bar in hybrid_bars_position]\n",
        "\n",
        "# Criando as barras do gráfico\n",
        "plt.bar(in_person_bars_position, graph_bars['in_person'], color='#6A5ACD', width=bar_width, label='In person')\n",
        "plt.bar(hybrid_bars_position, graph_bars['hybrid'], color='#6495ED', width=bar_width, label='Hybrid')\n",
        "plt.bar(remote_bars_position, graph_bars['remote'], color='#00BFFF', width=bar_width, label='Remote')\n",
        "\n",
        "# Adicionando legendas do gráfico\n",
        "plt.xlabel('Years')\n",
        "plt.xticks([marker + bar_width for marker in range(len(years))], [str(year) for year in years])\n",
        "plt.ylabel('Percentage')\n",
        "plt.title('Representation of the percentage of each work regime over the years')\n",
        "\n",
        "# Criando legenda e exibindo o gráfico\n",
        "plt.legend()\n",
        "plt.show()\n",
        "\n"
      ]
    }
  ]
}