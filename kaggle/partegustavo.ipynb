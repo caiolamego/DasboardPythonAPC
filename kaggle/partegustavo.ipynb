{
 "cells": [
  {
   "cell_type": "code",
   "execution_count": 8,
   "metadata": {},
   "outputs": [],
   "source": [
    "#TESTE E APRENDIZADO EM JUPYTER PARA O TRABALHO DE APC!!! \n",
    "\n",
    "# FILE .IPYNB\n",
    "\n"
   ]
  },
  {
   "cell_type": "code",
   "execution_count": 9,
   "metadata": {},
   "outputs": [],
   "source": [
    "import pandas as pd\n",
    "import plotly.express as px"
   ]
  },
  {
   "cell_type": "code",
   "execution_count": 10,
   "metadata": {},
   "outputs": [
    {
     "ename": "SyntaxError",
     "evalue": "invalid syntax (4177558605.py, line 1)",
     "output_type": "error",
     "traceback": [
      "\u001b[1;36m  Cell \u001b[1;32mIn[10], line 1\u001b[1;36m\u001b[0m\n\u001b[1;33m    url =\u001b[0m\n\u001b[1;37m          ^\u001b[0m\n\u001b[1;31mSyntaxError\u001b[0m\u001b[1;31m:\u001b[0m invalid syntax\n"
     ]
    }
   ],
   "source": [
    "url = \n",
    "\n"
   ]
  },
  {
   "cell_type": "code",
   "execution_count": null,
   "metadata": {},
   "outputs": [
    {
     "data": {
      "text/html": [
       "<div>\n",
       "<style scoped>\n",
       "    .dataframe tbody tr th:only-of-type {\n",
       "        vertical-align: middle;\n",
       "    }\n",
       "\n",
       "    .dataframe tbody tr th {\n",
       "        vertical-align: top;\n",
       "    }\n",
       "\n",
       "    .dataframe thead th {\n",
       "        text-align: right;\n",
       "    }\n",
       "</style>\n",
       "<table border=\"1\" class=\"dataframe\">\n",
       "  <thead>\n",
       "    <tr style=\"text-align: right;\">\n",
       "      <th></th>\n",
       "      <th>work_year</th>\n",
       "      <th>experience_level</th>\n",
       "      <th>employment_type</th>\n",
       "      <th>job_title</th>\n",
       "      <th>salary</th>\n",
       "      <th>salary_currency</th>\n",
       "      <th>salary_in_usd</th>\n",
       "      <th>employee_residence</th>\n",
       "      <th>remote_ratio</th>\n",
       "      <th>company_location</th>\n",
       "      <th>company_size</th>\n",
       "    </tr>\n",
       "  </thead>\n",
       "  <tbody>\n",
       "    <tr>\n",
       "      <th>0</th>\n",
       "      <td>2022</td>\n",
       "      <td>MI</td>\n",
       "      <td>FT</td>\n",
       "      <td>Machine Learning Engineer</td>\n",
       "      <td>130000</td>\n",
       "      <td>USD</td>\n",
       "      <td>130000</td>\n",
       "      <td>US</td>\n",
       "      <td>0</td>\n",
       "      <td>US</td>\n",
       "      <td>M</td>\n",
       "    </tr>\n",
       "    <tr>\n",
       "      <th>1</th>\n",
       "      <td>2022</td>\n",
       "      <td>MI</td>\n",
       "      <td>FT</td>\n",
       "      <td>Machine Learning Engineer</td>\n",
       "      <td>90000</td>\n",
       "      <td>USD</td>\n",
       "      <td>90000</td>\n",
       "      <td>US</td>\n",
       "      <td>0</td>\n",
       "      <td>US</td>\n",
       "      <td>M</td>\n",
       "    </tr>\n",
       "    <tr>\n",
       "      <th>2</th>\n",
       "      <td>2022</td>\n",
       "      <td>MI</td>\n",
       "      <td>FT</td>\n",
       "      <td>Data Scientist</td>\n",
       "      <td>120000</td>\n",
       "      <td>USD</td>\n",
       "      <td>120000</td>\n",
       "      <td>US</td>\n",
       "      <td>100</td>\n",
       "      <td>US</td>\n",
       "      <td>M</td>\n",
       "    </tr>\n",
       "    <tr>\n",
       "      <th>3</th>\n",
       "      <td>2022</td>\n",
       "      <td>MI</td>\n",
       "      <td>FT</td>\n",
       "      <td>Data Scientist</td>\n",
       "      <td>100000</td>\n",
       "      <td>USD</td>\n",
       "      <td>100000</td>\n",
       "      <td>US</td>\n",
       "      <td>100</td>\n",
       "      <td>US</td>\n",
       "      <td>M</td>\n",
       "    </tr>\n",
       "    <tr>\n",
       "      <th>4</th>\n",
       "      <td>2022</td>\n",
       "      <td>MI</td>\n",
       "      <td>FT</td>\n",
       "      <td>Data Scientist</td>\n",
       "      <td>85000</td>\n",
       "      <td>USD</td>\n",
       "      <td>85000</td>\n",
       "      <td>US</td>\n",
       "      <td>100</td>\n",
       "      <td>US</td>\n",
       "      <td>M</td>\n",
       "    </tr>\n",
       "  </tbody>\n",
       "</table>\n",
       "</div>"
      ],
      "text/plain": [
       "   work_year experience_level employment_type                  job_title  \\\n",
       "0       2022               MI              FT  Machine Learning Engineer   \n",
       "1       2022               MI              FT  Machine Learning Engineer   \n",
       "2       2022               MI              FT             Data Scientist   \n",
       "3       2022               MI              FT             Data Scientist   \n",
       "4       2022               MI              FT             Data Scientist   \n",
       "\n",
       "   salary salary_currency  salary_in_usd employee_residence  remote_ratio  \\\n",
       "0  130000             USD         130000                 US             0   \n",
       "1   90000             USD          90000                 US             0   \n",
       "2  120000             USD         120000                 US           100   \n",
       "3  100000             USD         100000                 US           100   \n",
       "4   85000             USD          85000                 US           100   \n",
       "\n",
       "  company_location company_size  \n",
       "0               US            M  \n",
       "1               US            M  \n",
       "2               US            M  \n",
       "3               US            M  \n",
       "4               US            M  "
      ]
     },
     "execution_count": 6,
     "metadata": {},
     "output_type": "execute_result"
    }
   ],
   "source": [
    "df = pd.read_csv(\"salaries.csv\")\n",
    "df.head(5)"
   ]
  },
  {
   "cell_type": "code",
   "execution_count": null,
   "metadata": {},
   "outputs": [
    {
     "data": {
      "application/vnd.plotly.v1+json": {
       "config": {
        "plotlyServerURL": "https://plot.ly"
       },
       "data": [
        {
         "alignmentgroup": "True",
         "hovertemplate": "Níveis=%{x}<br>Valor em dólar=%{y}<extra></extra>",
         "legendgroup": "",
         "marker": {
          "color": "rgb(127, 60, 141)",
          "pattern": {
           "shape": ""
          }
         },
         "name": "",
         "offsetgroup": "",
         "orientation": "v",
         "showlegend": false,
         "textposition": "auto",
         "type": "bar",
         "x": [
          "EN",
          "MI",
          "SE",
          "EX"
         ],
         "xaxis": "x",
         "y": [
          60133.34013605442,
          90288.6528189911,
          144853.48692403486,
          194462.6222222222
         ],
         "yaxis": "y"
        }
       ],
       "layout": {
        "barmode": "relative",
        "legend": {
         "tracegroupgap": 0
        },
        "template": {
         "data": {
          "pie": [
           {
            "automargin": true,
            "type": "pie"
           }
          ]
         },
         "layout": {
          "xaxis": {
           "showgrid": false,
           "title": {
            "standoff": 15
           }
          },
          "yaxis": {
           "title": {
            "standoff": 15
           }
          }
         }
        },
        "title": {
         "text": "Média salarial em nível de experiência"
        },
        "xaxis": {
         "anchor": "y",
         "domain": [
          0,
          1
         ],
         "title": {
          "text": "Níveis"
         }
        },
        "yaxis": {
         "anchor": "x",
         "domain": [
          0,
          1
         ],
         "title": {
          "text": "Valor em dólar"
         }
        }
       }
      }
     },
     "metadata": {},
     "output_type": "display_data"
    },
    {
     "name": "stdout",
     "output_type": "stream",
     "text": [
      "    experience_level\n",
      "EN      60133.340136\n",
      "MI      90288.652819\n",
      "SE     144853.486924\n",
      "EX     194462.622222\n"
     ]
    }
   ],
   "source": [
    "#salarios_agrupado_por_experiencia = salarios.groupby('experience_level', 'salary_in_usd')\n",
    "\n",
    "lista_nivel_de_experiencia = df.experience_level.values.tolist()\n",
    "salario_anual_dolar = df.salary_in_usd.values.tolist()\n",
    "linhas = len(df)\n",
    "\n",
    "\n",
    "def calcular_media_salarial(nivel_experiencia, lista_nivel_experiencia, salario_anual_dolar):\n",
    "    count = 0\n",
    "    media = 0\n",
    "    for i in range(len(lista_nivel_experiencia)):\n",
    "        if(lista_nivel_experiencia[i] == nivel_experiencia):\n",
    "            media += salario_anual_dolar[i]\n",
    "            count += 1\n",
    "    if count == 0:\n",
    "        return 0\n",
    "    return media / count\n",
    "\n",
    "media_EN = calcular_media_salarial('EN', lista_nivel_de_experiencia, salario_anual_dolar)\n",
    "media_MI = calcular_media_salarial('MI', lista_nivel_de_experiencia, salario_anual_dolar)\n",
    "media_SE = calcular_media_salarial('SE', lista_nivel_de_experiencia, salario_anual_dolar)\n",
    "media_EX = calcular_media_salarial('EX', lista_nivel_de_experiencia, salario_anual_dolar)\n",
    "\n",
    "\n",
    "dt = pd.DataFrame({'experience_level':[media_EN, media_MI, media_SE, media_EX]}, index=['EN', 'MI', 'SE', 'EX'])\n",
    "\n",
    "\n",
    "grafico_1 = px.bar(dt, y = 'experience_level',\n",
    "title = \"Média salarial em nível de experiência\", labels={\n",
    "'experience_level' : 'Valor em dólar', 'index' : 'Níveis'},\n",
    "template= 'xgridoff' , \n",
    "color_discrete_sequence= px.colors.qualitative.Bold,\n",
    "\n",
    ")\n",
    "display(grafico_1)\n",
    "\n",
    "colors = px.colors.qualitative.swatches()\n",
    "\n",
    "print (dt)"
   ]
  }
 ],
 "metadata": {
  "kernelspec": {
   "display_name": "Python 3",
   "language": "python",
   "name": "python3"
  },
  "language_info": {
   "codemirror_mode": {
    "name": "ipython",
    "version": 3
   },
   "file_extension": ".py",
   "mimetype": "text/x-python",
   "name": "python",
   "nbconvert_exporter": "python",
   "pygments_lexer": "ipython3",
   "version": "3.11.1"
  },
  "vscode": {
   "interpreter": {
    "hash": "ebfc0a8d552866b0d59eba665220a57de3bc06f3ac643b8bef38dd8f66781fdd"
   }
  }
 },
 "nbformat": 4,
 "nbformat_minor": 2
}
